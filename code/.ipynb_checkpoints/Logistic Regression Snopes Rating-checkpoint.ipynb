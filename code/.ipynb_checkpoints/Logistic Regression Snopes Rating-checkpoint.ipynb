{
 "cells": [
  {
   "cell_type": "code",
   "execution_count": 64,
   "id": "c9b57551-60c8-4933-916a-1a6e9bad9c22",
   "metadata": {},
   "outputs": [],
   "source": [
    "import pandas as pd\n",
    "import re\n",
    "\n",
    "\n",
    "from sklearn.pipeline import Pipeline\n",
    "from sklearn.compose import ColumnTransformer\n",
    "\n",
    "from sklearn.model_selection import train_test_split\n",
    "from sklearn.feature_extraction.text import TfidfVectorizer\n",
    "\n",
    "from nltk.corpus import stopwords\n",
    "import nltk\n",
    "\n",
    "from sklearn.linear_model import LogisticRegression\n",
    "from sklearn.metrics import classification_report, accuracy_score\n",
    "\n",
    "from sklearn.metrics import confusion_matrix, ConfusionMatrixDisplay"
   ]
  },
  {
   "cell_type": "code",
   "execution_count": 58,
   "id": "83dd9a86-15d5-495b-8a2d-9ae0b8a7d22f",
   "metadata": {},
   "outputs": [
    {
     "data": {
      "text/html": [
       "<div>\n",
       "<style scoped>\n",
       "    .dataframe tbody tr th:only-of-type {\n",
       "        vertical-align: middle;\n",
       "    }\n",
       "\n",
       "    .dataframe tbody tr th {\n",
       "        vertical-align: top;\n",
       "    }\n",
       "\n",
       "    .dataframe thead th {\n",
       "        text-align: right;\n",
       "    }\n",
       "</style>\n",
       "<table border=\"1\" class=\"dataframe\">\n",
       "  <thead>\n",
       "    <tr style=\"text-align: right;\">\n",
       "      <th></th>\n",
       "      <th>url</th>\n",
       "      <th>title</th>\n",
       "      <th>author</th>\n",
       "      <th>date_published</th>\n",
       "      <th>category</th>\n",
       "      <th>rating</th>\n",
       "      <th>body</th>\n",
       "      <th>body Pt.2</th>\n",
       "    </tr>\n",
       "  </thead>\n",
       "  <tbody>\n",
       "    <tr>\n",
       "      <th>0</th>\n",
       "      <td>https://www.snopes.com/fact-check/sasha-obama-...</td>\n",
       "      <td>Contrary to Rumor, Sasha Obama Wasn't Kicked O...</td>\n",
       "      <td>Jordan Liles</td>\n",
       "      <td>2024-12-31T17:20:46+00:00</td>\n",
       "      <td>Politics</td>\n",
       "      <td>Rating: False About this rating</td>\n",
       "      <td>About this rating\\nA rumor circulating online ...</td>\n",
       "      <td>NaN</td>\n",
       "    </tr>\n",
       "    <tr>\n",
       "      <th>1</th>\n",
       "      <td>https://www.snopes.com/fact-check/anti-shariah...</td>\n",
       "      <td>Texas Banned Shariah Law in December 2024? No,...</td>\n",
       "      <td>Laerke Christensen</td>\n",
       "      <td>2024-12-31T18:30:03+00:00</td>\n",
       "      <td>Politics</td>\n",
       "      <td>Rating: False About this rating</td>\n",
       "      <td>About this rating\\nAlthough Texas introduced n...</td>\n",
       "      <td>NaN</td>\n",
       "    </tr>\n",
       "    <tr>\n",
       "      <th>2</th>\n",
       "      <td>https://www.snopes.com/fact-check/ai-artificia...</td>\n",
       "      <td>No, Photo Doesn't Show Real Megalodon in the 1...</td>\n",
       "      <td>Caroline Wazer</td>\n",
       "      <td>2024-12-31T19:00:03+00:00</td>\n",
       "      <td>History</td>\n",
       "      <td>Rating: Miscaptioned About this rating</td>\n",
       "      <td>About this rating\\nThe image originated as an ...</td>\n",
       "      <td>NaN</td>\n",
       "    </tr>\n",
       "    <tr>\n",
       "      <th>3</th>\n",
       "      <td>https://www.snopes.com/fact-check/jimmy-carter...</td>\n",
       "      <td>The Story About Jimmy Carter Volunteering Desp...</td>\n",
       "      <td>Jessica Lee</td>\n",
       "      <td>2025-01-01T04:00:03+00:00</td>\n",
       "      <td>Politics</td>\n",
       "      <td>Rating: True About this rating</td>\n",
       "      <td>About this rating\\nThe injury occurred on Oct....</td>\n",
       "      <td>NaN</td>\n",
       "    </tr>\n",
       "    <tr>\n",
       "      <th>4</th>\n",
       "      <td>https://www.snopes.com/articles/468804/trump-9...</td>\n",
       "      <td>Did Trump Really Ask for $90M for His Inaugura...</td>\n",
       "      <td>Rae Deng</td>\n",
       "      <td>2025-01-01T06:00:03+00:00</td>\n",
       "      <td>Politics</td>\n",
       "      <td>NaN</td>\n",
       "      <td>On Dec. 21, 2024, U.S. Rep. Jasmine Crockett, ...</td>\n",
       "      <td>NaN</td>\n",
       "    </tr>\n",
       "  </tbody>\n",
       "</table>\n",
       "</div>"
      ],
      "text/plain": [
       "                                                 url  \\\n",
       "0  https://www.snopes.com/fact-check/sasha-obama-...   \n",
       "1  https://www.snopes.com/fact-check/anti-shariah...   \n",
       "2  https://www.snopes.com/fact-check/ai-artificia...   \n",
       "3  https://www.snopes.com/fact-check/jimmy-carter...   \n",
       "4  https://www.snopes.com/articles/468804/trump-9...   \n",
       "\n",
       "                                               title              author  \\\n",
       "0  Contrary to Rumor, Sasha Obama Wasn't Kicked O...        Jordan Liles   \n",
       "1  Texas Banned Shariah Law in December 2024? No,...  Laerke Christensen   \n",
       "2  No, Photo Doesn't Show Real Megalodon in the 1...      Caroline Wazer   \n",
       "3  The Story About Jimmy Carter Volunteering Desp...         Jessica Lee   \n",
       "4  Did Trump Really Ask for $90M for His Inaugura...            Rae Deng   \n",
       "\n",
       "              date_published  category  \\\n",
       "0  2024-12-31T17:20:46+00:00  Politics   \n",
       "1  2024-12-31T18:30:03+00:00  Politics   \n",
       "2  2024-12-31T19:00:03+00:00   History   \n",
       "3  2025-01-01T04:00:03+00:00  Politics   \n",
       "4  2025-01-01T06:00:03+00:00  Politics   \n",
       "\n",
       "                                   rating  \\\n",
       "0         Rating: False About this rating   \n",
       "1         Rating: False About this rating   \n",
       "2  Rating: Miscaptioned About this rating   \n",
       "3          Rating: True About this rating   \n",
       "4                                     NaN   \n",
       "\n",
       "                                                body  body Pt.2  \n",
       "0  About this rating\\nA rumor circulating online ...        NaN  \n",
       "1  About this rating\\nAlthough Texas introduced n...        NaN  \n",
       "2  About this rating\\nThe image originated as an ...        NaN  \n",
       "3  About this rating\\nThe injury occurred on Oct....        NaN  \n",
       "4  On Dec. 21, 2024, U.S. Rep. Jasmine Crockett, ...        NaN  "
      ]
     },
     "execution_count": 58,
     "metadata": {},
     "output_type": "execute_result"
    }
   ],
   "source": [
    "df = pd.read_csv(\"C:/Users/spark/OneDrive/Desktop/Snopes/output/snopes_2025_JanJul.csv\")\n",
    "df.head()"
   ]
  },
  {
   "cell_type": "code",
   "execution_count": 59,
   "id": "5107db04-5ba4-4109-9aa9-d893aa361d99",
   "metadata": {},
   "outputs": [
    {
     "data": {
      "text/html": [
       "<div>\n",
       "<style scoped>\n",
       "    .dataframe tbody tr th:only-of-type {\n",
       "        vertical-align: middle;\n",
       "    }\n",
       "\n",
       "    .dataframe tbody tr th {\n",
       "        vertical-align: top;\n",
       "    }\n",
       "\n",
       "    .dataframe thead th {\n",
       "        text-align: right;\n",
       "    }\n",
       "</style>\n",
       "<table border=\"1\" class=\"dataframe\">\n",
       "  <thead>\n",
       "    <tr style=\"text-align: right;\">\n",
       "      <th></th>\n",
       "      <th>url</th>\n",
       "      <th>title</th>\n",
       "      <th>author</th>\n",
       "      <th>date_published</th>\n",
       "      <th>category</th>\n",
       "      <th>rating</th>\n",
       "      <th>body</th>\n",
       "      <th>body Pt.2</th>\n",
       "      <th>binary_Tf</th>\n",
       "    </tr>\n",
       "  </thead>\n",
       "  <tbody>\n",
       "    <tr>\n",
       "      <th>0</th>\n",
       "      <td>https://www.snopes.com/fact-check/sasha-obama-...</td>\n",
       "      <td>Contrary to Rumor, Sasha Obama Wasn't Kicked O...</td>\n",
       "      <td>Jordan Liles</td>\n",
       "      <td>2024-12-31T17:20:46+00:00</td>\n",
       "      <td>Politics</td>\n",
       "      <td>Rating: False About this rating</td>\n",
       "      <td>About this rating\\nA rumor circulating online ...</td>\n",
       "      <td>NaN</td>\n",
       "      <td>False</td>\n",
       "    </tr>\n",
       "    <tr>\n",
       "      <th>1</th>\n",
       "      <td>https://www.snopes.com/fact-check/anti-shariah...</td>\n",
       "      <td>Texas Banned Shariah Law in December 2024? No,...</td>\n",
       "      <td>Laerke Christensen</td>\n",
       "      <td>2024-12-31T18:30:03+00:00</td>\n",
       "      <td>Politics</td>\n",
       "      <td>Rating: False About this rating</td>\n",
       "      <td>About this rating\\nAlthough Texas introduced n...</td>\n",
       "      <td>NaN</td>\n",
       "      <td>False</td>\n",
       "    </tr>\n",
       "    <tr>\n",
       "      <th>2</th>\n",
       "      <td>https://www.snopes.com/fact-check/ai-artificia...</td>\n",
       "      <td>No, Photo Doesn't Show Real Megalodon in the 1...</td>\n",
       "      <td>Caroline Wazer</td>\n",
       "      <td>2024-12-31T19:00:03+00:00</td>\n",
       "      <td>History</td>\n",
       "      <td>Rating: Miscaptioned About this rating</td>\n",
       "      <td>About this rating\\nThe image originated as an ...</td>\n",
       "      <td>NaN</td>\n",
       "      <td>True</td>\n",
       "    </tr>\n",
       "    <tr>\n",
       "      <th>3</th>\n",
       "      <td>https://www.snopes.com/fact-check/jimmy-carter...</td>\n",
       "      <td>The Story About Jimmy Carter Volunteering Desp...</td>\n",
       "      <td>Jessica Lee</td>\n",
       "      <td>2025-01-01T04:00:03+00:00</td>\n",
       "      <td>Politics</td>\n",
       "      <td>Rating: True About this rating</td>\n",
       "      <td>About this rating\\nThe injury occurred on Oct....</td>\n",
       "      <td>NaN</td>\n",
       "      <td>True</td>\n",
       "    </tr>\n",
       "    <tr>\n",
       "      <th>4</th>\n",
       "      <td>https://www.snopes.com/articles/468804/trump-9...</td>\n",
       "      <td>Did Trump Really Ask for $90M for His Inaugura...</td>\n",
       "      <td>Rae Deng</td>\n",
       "      <td>2025-01-01T06:00:03+00:00</td>\n",
       "      <td>Politics</td>\n",
       "      <td>NaN</td>\n",
       "      <td>On Dec. 21, 2024, U.S. Rep. Jasmine Crockett, ...</td>\n",
       "      <td>NaN</td>\n",
       "      <td>True</td>\n",
       "    </tr>\n",
       "  </tbody>\n",
       "</table>\n",
       "</div>"
      ],
      "text/plain": [
       "                                                 url  \\\n",
       "0  https://www.snopes.com/fact-check/sasha-obama-...   \n",
       "1  https://www.snopes.com/fact-check/anti-shariah...   \n",
       "2  https://www.snopes.com/fact-check/ai-artificia...   \n",
       "3  https://www.snopes.com/fact-check/jimmy-carter...   \n",
       "4  https://www.snopes.com/articles/468804/trump-9...   \n",
       "\n",
       "                                               title              author  \\\n",
       "0  Contrary to Rumor, Sasha Obama Wasn't Kicked O...        Jordan Liles   \n",
       "1  Texas Banned Shariah Law in December 2024? No,...  Laerke Christensen   \n",
       "2  No, Photo Doesn't Show Real Megalodon in the 1...      Caroline Wazer   \n",
       "3  The Story About Jimmy Carter Volunteering Desp...         Jessica Lee   \n",
       "4  Did Trump Really Ask for $90M for His Inaugura...            Rae Deng   \n",
       "\n",
       "              date_published  category  \\\n",
       "0  2024-12-31T17:20:46+00:00  Politics   \n",
       "1  2024-12-31T18:30:03+00:00  Politics   \n",
       "2  2024-12-31T19:00:03+00:00   History   \n",
       "3  2025-01-01T04:00:03+00:00  Politics   \n",
       "4  2025-01-01T06:00:03+00:00  Politics   \n",
       "\n",
       "                                   rating  \\\n",
       "0         Rating: False About this rating   \n",
       "1         Rating: False About this rating   \n",
       "2  Rating: Miscaptioned About this rating   \n",
       "3          Rating: True About this rating   \n",
       "4                                     NaN   \n",
       "\n",
       "                                                body  body Pt.2  binary_Tf  \n",
       "0  About this rating\\nA rumor circulating online ...        NaN      False  \n",
       "1  About this rating\\nAlthough Texas introduced n...        NaN      False  \n",
       "2  About this rating\\nThe image originated as an ...        NaN       True  \n",
       "3  About this rating\\nThe injury occurred on Oct....        NaN       True  \n",
       "4  On Dec. 21, 2024, U.S. Rep. Jasmine Crockett, ...        NaN       True  "
      ]
     },
     "execution_count": 59,
     "metadata": {},
     "output_type": "execute_result"
    }
   ],
   "source": [
    "df[\"binary_Tf\"] = df[\"rating\"].apply(lambda x: False if \"False\" in str(x) else True)\n",
    "df.head()"
   ]
  },
  {
   "cell_type": "code",
   "execution_count": 60,
   "id": "a60ba919-4074-46ca-8295-a5eddf79dc98",
   "metadata": {},
   "outputs": [],
   "source": [
    "def clean_text(text):\n",
    "    text = text.lower()\n",
    "    text = re.sub(r'http\\S+|www\\S+|https\\S+', '', text)  # remove URLs\n",
    "    text = re.sub(r'[^a-z\\s]', '', text)                # remove punctuation/numbers\n",
    "    tokens = [word for word in text.split() if word not in stop_words]\n",
    "    return ' '.join(tokens)"
   ]
  },
  {
   "cell_type": "code",
   "execution_count": 61,
   "id": "b85322f3-6faa-48b3-8274-98df97e40618",
   "metadata": {},
   "outputs": [],
   "source": [
    "# Clean each text column separately\n",
    "df['title'] = df['title'].fillna('').apply(clean_text)\n",
    "df['category'] = df['category'].fillna('').apply(clean_text)\n",
    "df['body'] = df['body'].fillna('').apply(clean_text)"
   ]
  },
  {
   "cell_type": "code",
   "execution_count": 77,
   "id": "99cf29a2-8595-4e4c-b6c2-6c63fd2ca123",
   "metadata": {},
   "outputs": [],
   "source": [
    "# Train-test split\n",
    "X_train, X_test, y_train, y_test = train_test_split(\n",
    "    df[['title', 'category', 'body']], df['binary_Tf'],\n",
    "    test_size=0.1, random_state=42, stratify=df['binary_Tf']\n",
    ")"
   ]
  },
  {
   "cell_type": "code",
   "execution_count": 78,
   "id": "bfc2cb18-11cd-4fae-96c4-3db96fae987a",
   "metadata": {},
   "outputs": [],
   "source": [
    "# Column-wise TF-IDF\n",
    "preprocessor = ColumnTransformer(\n",
    "    transformers=[\n",
    "        ('title_tfidf', TfidfVectorizer(max_features=5000, ngram_range=(1,2)), 'title'),\n",
    "        ('category_tfidf', TfidfVectorizer(max_features=1000), 'category'),\n",
    "        ('body_tfidf', TfidfVectorizer(max_features=10000, ngram_range=(1,2)), 'body')\n",
    "    ]\n",
    ")"
   ]
  },
  {
   "cell_type": "code",
   "execution_count": 79,
   "id": "fe2c5eb7-cc9a-49d9-89a8-3b7767cc9691",
   "metadata": {},
   "outputs": [
    {
     "name": "stdout",
     "output_type": "stream",
     "text": [
      "Train Accuracy: 0.988950276243094\n"
     ]
    }
   ],
   "source": [
    "# Training\n",
    "pipeline = Pipeline([\n",
    "    ('vectorizer', preprocessor),\n",
    "    ('clf', LogisticRegression(max_iter=1000, class_weight='balanced'))\n",
    "])\n",
    "pipeline.fit(X_train, y_train)\n",
    "#Training Accuracy\n",
    "print(\"Train Accuracy:\", pipeline.score(X_train, y_train))"
   ]
  },
  {
   "cell_type": "code",
   "execution_count": 80,
   "id": "1155ef03-7122-4349-8545-98ce568efb53",
   "metadata": {},
   "outputs": [
    {
     "name": "stdout",
     "output_type": "stream",
     "text": [
      "Accuracy: 0.9392265193370166\n",
      "              precision    recall  f1-score   support\n",
      "\n",
      "       False       0.93      0.74      0.83        35\n",
      "        True       0.94      0.99      0.96       146\n",
      "\n",
      "    accuracy                           0.94       181\n",
      "   macro avg       0.93      0.86      0.89       181\n",
      "weighted avg       0.94      0.94      0.94       181\n",
      "\n"
     ]
    }
   ],
   "source": [
    "# Testing\n",
    "y_pred = pipeline.predict(X_test)\n",
    "print(\"Accuracy:\", accuracy_score(y_test, y_pred))\n",
    "print(classification_report(y_test, y_pred))"
   ]
  },
  {
   "cell_type": "code",
   "execution_count": 81,
   "id": "607b8314-0bc9-4931-97eb-4f4a617184e5",
   "metadata": {},
   "outputs": [
    {
     "data": {
      "image/png": "[encoded data removed]",
      "text/plain": [
       "<Figure size 640x480 with 2 Axes>"
      ]
     },
     "metadata": {},
     "output_type": "display_data"
    }
   ],
   "source": [
    "ConfusionMatrixDisplay.from_estimator(pipeline, X_test, y_test)\n",
    "plt.title(\"Confusion Matrix\")\n",
    "plt.show()\n"
   ]
  },
  {
   "cell_type": "markdown",
   "id": "dea78d06-148d-4218-90fe-461b13c5cdd9",
   "metadata": {},
   "source": [
    "Looks like False positives are high-- which is dangerous in algorithms which are trying to predict misinfo!"
   ]
  },
  {
   "cell_type": "code",
   "execution_count": 76,
   "id": "9dd1959e-2f21-4676-86dd-b7e2719d03f1",
   "metadata": {},
   "outputs": [
    {
     "data": {
      "image/png": "[encoded data removed]",
      "text/plain": [
       "<Figure size 640x480 with 1 Axes>"
      ]
     },
     "metadata": {},
     "output_type": "display_data"
    }
   ],
   "source": [
    "from sklearn.metrics import precision_recall_curve\n",
    "\n",
    "prec, rec, thr = precision_recall_curve(y_test, y_proba, pos_label=1)\n",
    "\n",
    "import matplotlib.pyplot as plt\n",
    "plt.plot(thr, rec[:-1], label=\"Recall\")\n",
    "plt.plot(thr, prec[:-1], label=\"Precision\")\n",
    "plt.xlabel(\"Threshold\")\n",
    "plt.ylabel(\"Score\")\n",
    "plt.legend()\n",
    "plt.title(\"Precision-Recall vs Threshold\")\n",
    "plt.show()\n"
   ]
  },
  {
   "cell_type": "code",
   "execution_count": 82,
   "id": "2aa188ac-7380-4127-bb38-e1bb56581b46",
   "metadata": {},
   "outputs": [
    {
     "name": "stdout",
     "output_type": "stream",
     "text": [
      "              precision    recall  f1-score   support\n",
      "\n",
      "       False       0.82      0.80      0.81        35\n",
      "        True       0.95      0.96      0.96       146\n",
      "\n",
      "    accuracy                           0.93       181\n",
      "   macro avg       0.89      0.88      0.88       181\n",
      "weighted avg       0.93      0.93      0.93       181\n",
      "\n"
     ]
    },
    {
     "data": {
      "text/plain": [
       "<sklearn.metrics._plot.confusion_matrix.ConfusionMatrixDisplay at 0x2555bdc9550>"
      ]
     },
     "execution_count": 82,
     "metadata": {},
     "output_type": "execute_result"
    },
    {
     "data": {
      "image/png": "[encoded data removed]",
      "text/plain": [
       "<Figure size 640x480 with 2 Axes>"
      ]
     },
     "metadata": {},
     "output_type": "display_data"
    }
   ],
   "source": [
    "import numpy as np\n",
    "from sklearn.metrics import classification_report, confusion_matrix, ConfusionMatrixDisplay\n",
    "\n",
    "# Get probabilities for the positive class (True)\n",
    "y_proba = pipeline.predict_proba(X_test)[:, 1]\n",
    "\n",
    "# Set a custom threshold (e.g., 0.6 instead of 0.5)\n",
    "threshold = 0.6 #As per the graph above-- looks like this might be a good compromise. \n",
    "y_pred_custom = (y_proba >= threshold).astype(int)  # 1 = True, 0 = False\n",
    "\n",
    "# Evaluation\n",
    "print(classification_report(y_test, y_pred_custom))\n",
    "cm = confusion_matrix(y_test, y_pred_custom)\n",
    "ConfusionMatrixDisplay(cm).plot()\n"
   ]
  },
  {
   "cell_type": "markdown",
   "id": "87c2914e-e9dd-4658-9062-1831ef9820db",
   "metadata": {},
   "source": [
    "Improved recall, but precision and f-1 score are slightly worse."
   ]
  },
  {
   "cell_type": "markdown",
   "id": "82b5a8f8-dc68-4054-8881-f410b90b755a",
   "metadata": {},
   "source": [
    "Might need to change based on what model is being used for! If we want model to be able to predict fake news--- adjust for better recall"
   ]
  }
 ],
 "metadata": {
  "kernelspec": {
   "display_name": "Python 3 (ipykernel)",
   "language": "python",
   "name": "python3"
  },
  "language_info": {
   "codemirror_mode": {
    "name": "ipython",
    "version": 3
   },
   "file_extension": ".py",
   "mimetype": "text/x-python",
   "name": "python",
   "nbconvert_exporter": "python",
   "pygments_lexer": "ipython3",
   "version": "3.12.5"
  }
 },
 "nbformat": 4,
 "nbformat_minor": 5
}
